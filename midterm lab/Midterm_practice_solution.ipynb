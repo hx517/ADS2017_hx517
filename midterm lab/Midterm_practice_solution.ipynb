{
 "cells": [
  {
   "cell_type": "code",
   "execution_count": 42,
   "metadata": {
    "collapsed": true
   },
   "outputs": [],
   "source": [
    "import pandas as pd\n",
    "import numpy as np\n",
    "from sklearn.datasets import make_classification\n",
    "from sklearn.datasets import make_blobs\n",
    "from matplotlib.pylab import plt\n",
    "from sklearn.decomposition import PCA\n",
    "import statsmodels.formula.api as smf\n",
    "from sklearn.model_selection import train_test_split\n",
    "%matplotlib inline\n",
    "import numpy as np"
   ]
  },
  {
   "cell_type": "markdown",
   "metadata": {},
   "source": [
    "# Part I. Crime statistics"
   ]
  },
  {
   "cell_type": "markdown",
   "metadata": {},
   "source": [
    "Crime Rate in 47 states of the USA with 13 explanatory variables  \n",
    "The crime rate (**Y**) in 47 states in the U.S. was reported together with possible factors that might influence it. The factors recorded are as follows;  \n",
    "X1 = the number of males aged 14 - 24 per 1000 of total state population  \n",
    "X2 = binary variable distinguishing southern states (X2 =1) from the rest (X2=0).  \n",
    "X3 = the mean number of years of schooling x 10 of the population, 25 years old and over  \n",
    "X4 = police expenditure (in dollars) per person by state and local government in 1960  \n",
    "X5 = police expenditure (in dollars) per person by state and local government in 1959  \n",
    "X6 = labour force participation rate per 1000 civilian urban males in the age group 14-24  \n",
    "X7 = the number of males per 1000 females  \n",
    "X8 = state population size in hundred thousands  \n",
    "X9 = unemployment rate of urban males per 1000 in the age group 14-24    \n",
    "X10 = unemployment rate of urban males per 1000 in the age group 35-59.  \n",
    "X11 = the median value of family income or transferable goods and assets (unit 10 dollars)  \n",
    "X12 = the number of families per 1000 earning below one-half of the median income.  "
   ]
  },
  {
   "cell_type": "code",
   "execution_count": 33,
   "metadata": {
    "collapsed": true
   },
   "outputs": [],
   "source": [
    "data = pd.read_excel('Crime.xlsx')"
   ]
  },
  {
   "cell_type": "code",
   "execution_count": 52,
   "metadata": {
    "collapsed": true
   },
   "outputs": [],
   "source": [
    "features = ['males','south','yrsSch','policExp60','policeExp59','labour',\n",
    "           'M/F','statePop','unemp14','unemp35','income','proverty']"
   ]
  },
  {
   "cell_type": "code",
   "execution_count": 35,
   "metadata": {
    "collapsed": false
   },
   "outputs": [
    {
     "data": {
      "text/html": [
       "<div>\n",
       "<table border=\"1\" class=\"dataframe\">\n",
       "  <thead>\n",
       "    <tr style=\"text-align: right;\">\n",
       "      <th></th>\n",
       "      <th>X1</th>\n",
       "      <th>X2</th>\n",
       "      <th>X3</th>\n",
       "      <th>X4</th>\n",
       "      <th>X5</th>\n",
       "      <th>X6</th>\n",
       "      <th>X7</th>\n",
       "      <th>X8</th>\n",
       "      <th>X9</th>\n",
       "      <th>X10</th>\n",
       "      <th>X11</th>\n",
       "      <th>X12</th>\n",
       "      <th>Y</th>\n",
       "    </tr>\n",
       "  </thead>\n",
       "  <tbody>\n",
       "    <tr>\n",
       "      <th>0</th>\n",
       "      <td>151</td>\n",
       "      <td>1</td>\n",
       "      <td>91</td>\n",
       "      <td>58</td>\n",
       "      <td>56</td>\n",
       "      <td>510</td>\n",
       "      <td>950</td>\n",
       "      <td>33</td>\n",
       "      <td>108</td>\n",
       "      <td>41</td>\n",
       "      <td>394</td>\n",
       "      <td>261</td>\n",
       "      <td>79.1</td>\n",
       "    </tr>\n",
       "    <tr>\n",
       "      <th>1</th>\n",
       "      <td>143</td>\n",
       "      <td>0</td>\n",
       "      <td>113</td>\n",
       "      <td>103</td>\n",
       "      <td>95</td>\n",
       "      <td>583</td>\n",
       "      <td>1012</td>\n",
       "      <td>13</td>\n",
       "      <td>96</td>\n",
       "      <td>36</td>\n",
       "      <td>557</td>\n",
       "      <td>194</td>\n",
       "      <td>163.5</td>\n",
       "    </tr>\n",
       "    <tr>\n",
       "      <th>2</th>\n",
       "      <td>142</td>\n",
       "      <td>1</td>\n",
       "      <td>89</td>\n",
       "      <td>45</td>\n",
       "      <td>44</td>\n",
       "      <td>533</td>\n",
       "      <td>969</td>\n",
       "      <td>18</td>\n",
       "      <td>94</td>\n",
       "      <td>33</td>\n",
       "      <td>318</td>\n",
       "      <td>250</td>\n",
       "      <td>57.8</td>\n",
       "    </tr>\n",
       "    <tr>\n",
       "      <th>3</th>\n",
       "      <td>136</td>\n",
       "      <td>0</td>\n",
       "      <td>121</td>\n",
       "      <td>149</td>\n",
       "      <td>141</td>\n",
       "      <td>577</td>\n",
       "      <td>994</td>\n",
       "      <td>157</td>\n",
       "      <td>102</td>\n",
       "      <td>39</td>\n",
       "      <td>673</td>\n",
       "      <td>167</td>\n",
       "      <td>196.9</td>\n",
       "    </tr>\n",
       "    <tr>\n",
       "      <th>4</th>\n",
       "      <td>141</td>\n",
       "      <td>0</td>\n",
       "      <td>121</td>\n",
       "      <td>109</td>\n",
       "      <td>101</td>\n",
       "      <td>591</td>\n",
       "      <td>985</td>\n",
       "      <td>18</td>\n",
       "      <td>91</td>\n",
       "      <td>20</td>\n",
       "      <td>578</td>\n",
       "      <td>174</td>\n",
       "      <td>123.4</td>\n",
       "    </tr>\n",
       "  </tbody>\n",
       "</table>\n",
       "</div>"
      ],
      "text/plain": [
       "    X1  X2   X3   X4   X5   X6    X7   X8   X9  X10  X11  X12      Y\n",
       "0  151   1   91   58   56  510   950   33  108   41  394  261   79.1\n",
       "1  143   0  113  103   95  583  1012   13   96   36  557  194  163.5\n",
       "2  142   1   89   45   44  533   969   18   94   33  318  250   57.8\n",
       "3  136   0  121  149  141  577   994  157  102   39  673  167  196.9\n",
       "4  141   0  121  109  101  591   985   18   91   20  578  174  123.4"
      ]
     },
     "execution_count": 35,
     "metadata": {},
     "output_type": "execute_result"
    }
   ],
   "source": [
    "data.head()"
   ]
  },
  {
   "cell_type": "markdown",
   "metadata": {},
   "source": [
    "## Q1. Report the correlation coefficients between each feature and the output variable Y (crimes per 100.000)\n",
    "## Q2. Look at the impact of each feature separately (on all 47 observations)\n",
    "    # Fit bi-variate regressions and report the estimate as well as the p-values\n",
    "## Q3. Take for the further consideration only those which have correlation coefficient with Y above 60%\n",
    "    # Fit the multi-variate regression with them, report statistics\n",
    "## Q4. Run cross-validation with the regressors in Q3, report the Out-of-sample R2 (OS R2)\n",
    "    # Put 2/3 observations on average into training set and the remaining 1/3 into test set\n",
    "    # Run it 1000 times, obtain the average value"
   ]
  },
  {
   "cell_type": "code",
   "execution_count": null,
   "metadata": {
    "collapsed": true
   },
   "outputs": [],
   "source": []
  },
  {
   "cell_type": "code",
   "execution_count": null,
   "metadata": {
    "collapsed": true
   },
   "outputs": [],
   "source": []
  },
  {
   "cell_type": "markdown",
   "metadata": {},
   "source": [
    "### Solution"
   ]
  },
  {
   "cell_type": "markdown",
   "metadata": {},
   "source": [
    "Q1"
   ]
  },
  {
   "cell_type": "code",
   "execution_count": 56,
   "metadata": {
    "collapsed": false
   },
   "outputs": [
    {
     "name": "stdout",
     "output_type": "stream",
     "text": [
      "corr(Y,X1)=-0.089472\n",
      "corr(Y,X2)=-0.090637\n",
      "corr(Y,X3)=0.322835\n",
      "corr(Y,X4)=0.687604\n",
      "corr(Y,X5)=0.666714\n",
      "corr(Y,X6)=0.188866\n",
      "corr(Y,X7)=0.213914\n",
      "corr(Y,X8)=0.337474\n",
      "corr(Y,X9)=-0.050478\n",
      "corr(Y,X10)=0.177321\n",
      "corr(Y,X11)=0.441320\n",
      "corr(Y,X12)=-0.179024\n"
     ]
    }
   ],
   "source": [
    "for i in range(1,13):\n",
    "  print('corr(Y,X%d)=%f' % (i,np.corrcoef(data.Y,data['X%d' % i])[0,1]))"
   ]
  },
  {
   "cell_type": "markdown",
   "metadata": {},
   "source": [
    "Q2"
   ]
  },
  {
   "cell_type": "code",
   "execution_count": 39,
   "metadata": {
    "collapsed": false
   },
   "outputs": [
    {
     "name": "stdout",
     "output_type": "stream",
     "text": [
      "X1: R2=0.008005, p-value=0.549789, model: Y~-0.275347*X1+128.664557\n",
      "X2: R2=0.008215, p-value=0.544586, model: Y~-7.318750*X2+93.000000\n",
      "X3: R2=0.104222, p-value=0.026878, model: Y~1.116121*X3+-27.396654\n",
      "X4: R2=0.472800, p-value=0.000000, model: Y~0.894848*X4+14.446398\n",
      "X5: R2=0.444508, p-value=0.000000, model: Y~0.922203*X5+16.516424\n",
      "X6: R2=0.035670, p-value=0.203581, model: Y~0.180755*X6+-10.929773\n",
      "X7: R2=0.045759, p-value=0.148794, model: Y~0.280765*X7+-185.489484\n",
      "X8: R2=0.113889, p-value=0.020351, model: Y~0.342838*X8+77.954816\n",
      "X9: R2=0.002548, p-value=0.736150, model: Y~-0.108288*X9+100.846541\n",
      "X10: R2=0.031443, p-value=0.233108, model: Y~0.812047*X10+62.916195\n",
      "X11: R2=0.194763, p-value=0.001902, model: Y~0.176893*X11+-2.428261\n",
      "X12: R2=0.032049, p-value=0.228577, model: Y~-0.173550*X12+124.177253\n"
     ]
    }
   ],
   "source": [
    "for i in range(1,13):\n",
    "  lm = smf.ols(formula='Y ~ X%d' % i, data = data).fit()\n",
    "  print('X%d: R2=%f, p-value=%f, model: Y~%f*X%d+%f' % (i,lm.rsquared,lm.pvalues[1],lm.params[1],i,lm.params[0]))"
   ]
  },
  {
   "cell_type": "code",
   "execution_count": null,
   "metadata": {
    "collapsed": true
   },
   "outputs": [],
   "source": [
    "Q3"
   ]
  },
  {
   "cell_type": "code",
   "execution_count": 57,
   "metadata": {
    "collapsed": false
   },
   "outputs": [
    {
     "name": "stdout",
     "output_type": "stream",
     "text": [
      "                            OLS Regression Results                            \n",
      "==============================================================================\n",
      "Dep. Variable:                      Y   R-squared:                       0.494\n",
      "Model:                            OLS   Adj. R-squared:                  0.471\n",
      "Method:                 Least Squares   F-statistic:                     21.48\n",
      "Date:                Mon, 30 Oct 2017   Prob (F-statistic):           3.09e-07\n",
      "Time:                        23:43:59   Log-Likelihood:                -221.97\n",
      "No. Observations:                  47   AIC:                             449.9\n",
      "Df Residuals:                      44   BIC:                             455.5\n",
      "Df Model:                           2                                         \n",
      "Covariance Type:            nonrobust                                         \n",
      "==============================================================================\n",
      "                 coef    std err          t      P>|t|      [95.0% Conf. Int.]\n",
      "------------------------------------------------------------------------------\n",
      "Intercept     15.8265     12.593      1.257      0.215        -9.552    41.205\n",
      "X4             2.5615      1.234      2.076      0.044         0.074     5.049\n",
      "X5            -1.7829      1.312     -1.359      0.181        -4.427     0.861\n",
      "==============================================================================\n",
      "Omnibus:                        0.338   Durbin-Watson:                   2.077\n",
      "Prob(Omnibus):                  0.845   Jarque-Bera (JB):                0.394\n",
      "Skew:                          -0.186   Prob(JB):                        0.821\n",
      "Kurtosis:                       2.751   Cond. No.                         379.\n",
      "==============================================================================\n",
      "\n",
      "Warnings:\n",
      "[1] Standard Errors assume that the covariance matrix of the errors is correctly specified.\n"
     ]
    }
   ],
   "source": [
    "lm = smf.ols(formula='Y ~ X4+X5', data = data).fit()\n",
    "print(lm.summary())"
   ]
  },
  {
   "cell_type": "code",
   "execution_count": 58,
   "metadata": {
    "collapsed": false
   },
   "outputs": [
    {
     "name": "stdout",
     "output_type": "stream",
     "text": [
      "IS R^2 for 1000 times is 0.498623443536\n",
      "OS R-squared for 1000 times is 0.236475459597\n"
     ]
    }
   ],
   "source": [
    "# Using cross validation.\n",
    "R_IS=[]\n",
    "R_OS=[]\n",
    "\n",
    "# Why we need this? let's set n=1 and run several times to see.\n",
    "n=1000\n",
    "\n",
    "for i in range(n):\n",
    "    train, test = train_test_split(data, test_size = 0.33)\n",
    "    lm = smf.ols(formula='Y~X4+X5',data=train).fit()\n",
    "    R_IS.append(lm.rsquared)\n",
    "    lmy = lm.predict(test)\n",
    "    y_err = lmy - test.Y\n",
    "    y_norm = test.Y-np.mean(test.Y)\n",
    "    R2 = 1-y_err.dot(y_err)/y_norm.dot(y_norm)\n",
    "    R_OS.append(R2)\n",
    "print(\"IS R^2 for {} times is {}\".format(n,np.mean(R_IS)))\n",
    "print(\"OS R-squared for {} times is {}\".format(n,np.mean(R_OS)))"
   ]
  },
  {
   "cell_type": "code",
   "execution_count": 51,
   "metadata": {
    "collapsed": false
   },
   "outputs": [
    {
     "name": "stdout",
     "output_type": "stream",
     "text": [
      "IS R^2 for 1000 times is 0.499519367538\n",
      "OS R-squared for 1000 times is 0.245806552747\n"
     ]
    }
   ],
   "source": [
    "# Using cross validation.\n",
    "R_IS=[]\n",
    "R_OS=[]\n",
    "\n",
    "# Why we need this? let's set n=1 and run several times to see.\n",
    "n=1000\n",
    "\n",
    "for i in range(n):\n",
    "    train, test = train_test_split(data, test_size = 0.33)\n",
    "    lm = smf.ols(formula='Y~X4+X5',data=train).fit()\n",
    "    R_IS.append(lm.rsquared)\n",
    "    lmy = lm.predict(test)\n",
    "    y_err = lmy - test.Y\n",
    "    y_norm = test.Y-np.mean(test.Y)\n",
    "    R2 = 1-y_err.dot(y_err)/y_norm.dot(y_norm)\n",
    "    R_OS.append(R2)\n",
    "print(\"IS R^2 for {} times is {}\".format(n,np.mean(R_IS)))\n",
    "print(\"OS R-squared for {} times is {}\".format(n,np.mean(R_OS)))"
   ]
  },
  {
   "cell_type": "markdown",
   "metadata": {},
   "source": [
    "#  Part II. Learning Seattle's Work Habits from Bicycle Counts\n"
   ]
  },
  {
   "cell_type": "markdown",
   "metadata": {},
   "source": [
    "The data we will use here are the hourly bicycle counts on Seattle's Fremont Bridge. These data come from an automated bicycle counter, installed in late 2012, which has inductive sensors under the sidewalks on either side of the bridge. The daily or hourly bicycle counts can be downloaded from http://data.seattle.gov/; here is the direct link to the hourly dataset. To download the data directly, you can uncomment the following curl command:"
   ]
  },
  {
   "cell_type": "code",
   "execution_count": 60,
   "metadata": {
    "collapsed": false
   },
   "outputs": [],
   "source": [
    "data = pd.read_csv(\"Bridge.csv\", index_col='Date', parse_dates=True)\n",
    "data=data.iloc[:-12000,:]\n",
    "data.tail()\n",
    "\n",
    "#We'll do some quick data cleaning: \n",
    "#we'll rename the columns to the shorter \"West\" and \"East\", \n",
    "#set any missing values to zero, and add a \"Total\" column:\n",
    "data.columns = ['West', 'East']\n",
    "data.fillna(0, inplace=True)\n",
    "data['Total'] = data.eval('East + West')"
   ]
  },
  {
   "cell_type": "code",
   "execution_count": 61,
   "metadata": {
    "collapsed": false
   },
   "outputs": [
    {
     "data": {
      "text/html": [
       "<div>\n",
       "<table border=\"1\" class=\"dataframe\">\n",
       "  <thead>\n",
       "    <tr style=\"text-align: right;\">\n",
       "      <th></th>\n",
       "      <th>West</th>\n",
       "      <th>East</th>\n",
       "      <th>Total</th>\n",
       "    </tr>\n",
       "    <tr>\n",
       "      <th>Date</th>\n",
       "      <th></th>\n",
       "      <th></th>\n",
       "      <th></th>\n",
       "    </tr>\n",
       "  </thead>\n",
       "  <tbody>\n",
       "    <tr>\n",
       "      <th>2012-10-03 00:00:00</th>\n",
       "      <td>4.0</td>\n",
       "      <td>9.0</td>\n",
       "      <td>13.0</td>\n",
       "    </tr>\n",
       "    <tr>\n",
       "      <th>2012-10-03 01:00:00</th>\n",
       "      <td>4.0</td>\n",
       "      <td>6.0</td>\n",
       "      <td>10.0</td>\n",
       "    </tr>\n",
       "    <tr>\n",
       "      <th>2012-10-03 02:00:00</th>\n",
       "      <td>1.0</td>\n",
       "      <td>1.0</td>\n",
       "      <td>2.0</td>\n",
       "    </tr>\n",
       "    <tr>\n",
       "      <th>2012-10-03 03:00:00</th>\n",
       "      <td>2.0</td>\n",
       "      <td>3.0</td>\n",
       "      <td>5.0</td>\n",
       "    </tr>\n",
       "    <tr>\n",
       "      <th>2012-10-03 04:00:00</th>\n",
       "      <td>6.0</td>\n",
       "      <td>1.0</td>\n",
       "      <td>7.0</td>\n",
       "    </tr>\n",
       "  </tbody>\n",
       "</table>\n",
       "</div>"
      ],
      "text/plain": [
       "                     West  East  Total\n",
       "Date                                  \n",
       "2012-10-03 00:00:00   4.0   9.0   13.0\n",
       "2012-10-03 01:00:00   4.0   6.0   10.0\n",
       "2012-10-03 02:00:00   1.0   1.0    2.0\n",
       "2012-10-03 03:00:00   2.0   3.0    5.0\n",
       "2012-10-03 04:00:00   6.0   1.0    7.0"
      ]
     },
     "execution_count": 61,
     "metadata": {},
     "output_type": "execute_result"
    }
   ],
   "source": [
    "data.head()"
   ]
  },
  {
   "cell_type": "code",
   "execution_count": 62,
   "metadata": {
    "collapsed": false
   },
   "outputs": [
    {
     "name": "stderr",
     "output_type": "stream",
     "text": [
      "/Library/Frameworks/Python.framework/Versions/2.7/lib/python2.7/site-packages/ipykernel/__main__.py:1: FutureWarning: how in .resample() is deprecated\n",
      "the new syntax is .resample(...).sum()\n",
      "  if __name__ == '__main__':\n"
     ]
    },
    {
     "data": {
      "image/png": "[encoded data removed]",
      "text/plain": [
       "<matplotlib.figure.Figure at 0x10b2defd0>"
      ]
     },
     "metadata": {},
     "output_type": "display_data"
    }
   ],
   "source": [
    "data.resample('W', how='sum').plot()\n",
    "plt.ylabel('weekly trips');"
   ]
  },
  {
   "cell_type": "code",
   "execution_count": 63,
   "metadata": {
    "collapsed": false
   },
   "outputs": [
    {
     "data": {
      "text/html": [
       "<div>\n",
       "<table border=\"1\" class=\"dataframe\">\n",
       "  <thead>\n",
       "    <tr>\n",
       "      <th></th>\n",
       "      <th colspan=\"10\" halign=\"left\">East</th>\n",
       "      <th>...</th>\n",
       "      <th colspan=\"10\" halign=\"left\">West</th>\n",
       "    </tr>\n",
       "    <tr>\n",
       "      <th></th>\n",
       "      <th>0</th>\n",
       "      <th>1</th>\n",
       "      <th>2</th>\n",
       "      <th>3</th>\n",
       "      <th>4</th>\n",
       "      <th>5</th>\n",
       "      <th>6</th>\n",
       "      <th>7</th>\n",
       "      <th>8</th>\n",
       "      <th>9</th>\n",
       "      <th>...</th>\n",
       "      <th>14</th>\n",
       "      <th>15</th>\n",
       "      <th>16</th>\n",
       "      <th>17</th>\n",
       "      <th>18</th>\n",
       "      <th>19</th>\n",
       "      <th>20</th>\n",
       "      <th>21</th>\n",
       "      <th>22</th>\n",
       "      <th>23</th>\n",
       "    </tr>\n",
       "  </thead>\n",
       "  <tbody>\n",
       "    <tr>\n",
       "      <th>2012-10-03</th>\n",
       "      <td>9</td>\n",
       "      <td>6</td>\n",
       "      <td>1</td>\n",
       "      <td>3.0</td>\n",
       "      <td>1</td>\n",
       "      <td>10</td>\n",
       "      <td>50</td>\n",
       "      <td>95</td>\n",
       "      <td>146</td>\n",
       "      <td>104</td>\n",
       "      <td>...</td>\n",
       "      <td>77</td>\n",
       "      <td>72</td>\n",
       "      <td>133</td>\n",
       "      <td>192</td>\n",
       "      <td>122</td>\n",
       "      <td>59</td>\n",
       "      <td>29</td>\n",
       "      <td>25</td>\n",
       "      <td>24</td>\n",
       "      <td>5</td>\n",
       "    </tr>\n",
       "    <tr>\n",
       "      <th>2012-10-04</th>\n",
       "      <td>11</td>\n",
       "      <td>0</td>\n",
       "      <td>6</td>\n",
       "      <td>3.0</td>\n",
       "      <td>1</td>\n",
       "      <td>11</td>\n",
       "      <td>51</td>\n",
       "      <td>89</td>\n",
       "      <td>134</td>\n",
       "      <td>94</td>\n",
       "      <td>...</td>\n",
       "      <td>63</td>\n",
       "      <td>73</td>\n",
       "      <td>114</td>\n",
       "      <td>154</td>\n",
       "      <td>137</td>\n",
       "      <td>57</td>\n",
       "      <td>27</td>\n",
       "      <td>31</td>\n",
       "      <td>25</td>\n",
       "      <td>11</td>\n",
       "    </tr>\n",
       "    <tr>\n",
       "      <th>2012-10-05</th>\n",
       "      <td>7</td>\n",
       "      <td>4</td>\n",
       "      <td>3</td>\n",
       "      <td>2.0</td>\n",
       "      <td>2</td>\n",
       "      <td>7</td>\n",
       "      <td>37</td>\n",
       "      <td>101</td>\n",
       "      <td>119</td>\n",
       "      <td>81</td>\n",
       "      <td>...</td>\n",
       "      <td>63</td>\n",
       "      <td>80</td>\n",
       "      <td>120</td>\n",
       "      <td>144</td>\n",
       "      <td>107</td>\n",
       "      <td>42</td>\n",
       "      <td>27</td>\n",
       "      <td>11</td>\n",
       "      <td>10</td>\n",
       "      <td>16</td>\n",
       "    </tr>\n",
       "    <tr>\n",
       "      <th>2012-10-06</th>\n",
       "      <td>7</td>\n",
       "      <td>5</td>\n",
       "      <td>2</td>\n",
       "      <td>2.0</td>\n",
       "      <td>1</td>\n",
       "      <td>2</td>\n",
       "      <td>15</td>\n",
       "      <td>16</td>\n",
       "      <td>47</td>\n",
       "      <td>55</td>\n",
       "      <td>...</td>\n",
       "      <td>89</td>\n",
       "      <td>115</td>\n",
       "      <td>107</td>\n",
       "      <td>107</td>\n",
       "      <td>41</td>\n",
       "      <td>40</td>\n",
       "      <td>25</td>\n",
       "      <td>18</td>\n",
       "      <td>14</td>\n",
       "      <td>15</td>\n",
       "    </tr>\n",
       "    <tr>\n",
       "      <th>2012-10-07</th>\n",
       "      <td>5</td>\n",
       "      <td>5</td>\n",
       "      <td>1</td>\n",
       "      <td>2.0</td>\n",
       "      <td>2</td>\n",
       "      <td>3</td>\n",
       "      <td>8</td>\n",
       "      <td>12</td>\n",
       "      <td>26</td>\n",
       "      <td>36</td>\n",
       "      <td>...</td>\n",
       "      <td>126</td>\n",
       "      <td>122</td>\n",
       "      <td>132</td>\n",
       "      <td>118</td>\n",
       "      <td>68</td>\n",
       "      <td>26</td>\n",
       "      <td>19</td>\n",
       "      <td>12</td>\n",
       "      <td>9</td>\n",
       "      <td>5</td>\n",
       "    </tr>\n",
       "  </tbody>\n",
       "</table>\n",
       "<p>5 rows × 48 columns</p>\n",
       "</div>"
      ],
      "text/plain": [
       "           East                                      ... West                 \\\n",
       "             0  1  2    3  4   5   6    7    8    9  ...   14   15   16   17   \n",
       "2012-10-03    9  6  1  3.0  1  10  50   95  146  104 ...   77   72  133  192   \n",
       "2012-10-04   11  0  6  3.0  1  11  51   89  134   94 ...   63   73  114  154   \n",
       "2012-10-05    7  4  3  2.0  2   7  37  101  119   81 ...   63   80  120  144   \n",
       "2012-10-06    7  5  2  2.0  1   2  15   16   47   55 ...   89  115  107  107   \n",
       "2012-10-07    5  5  1  2.0  2   3   8   12   26   36 ...  126  122  132  118   \n",
       "\n",
       "                                     \n",
       "             18  19  20  21  22  23  \n",
       "2012-10-03  122  59  29  25  24   5  \n",
       "2012-10-04  137  57  27  31  25  11  \n",
       "2012-10-05  107  42  27  11  10  16  \n",
       "2012-10-06   41  40  25  18  14  15  \n",
       "2012-10-07   68  26  19  12   9   5  \n",
       "\n",
       "[5 rows x 48 columns]"
      ]
     },
     "execution_count": 63,
     "metadata": {},
     "output_type": "execute_result"
    }
   ],
   "source": [
    "pivoted = data.pivot_table(['East', 'West'],\n",
    "                           index=data.index.date,\n",
    "                           columns=data.index.hour,\n",
    "                           fill_value=0)\n",
    "pivoted.head()"
   ]
  },
  {
   "cell_type": "code",
   "execution_count": 64,
   "metadata": {
    "collapsed": false
   },
   "outputs": [
    {
     "data": {
      "text/plain": [
       "(990, 48)"
      ]
     },
     "execution_count": 64,
     "metadata": {},
     "output_type": "execute_result"
    }
   ],
   "source": [
    "X = pivoted.values\n",
    "X.shape"
   ]
  },
  {
   "cell_type": "code",
   "execution_count": 65,
   "metadata": {
    "collapsed": false
   },
   "outputs": [
    {
     "data": {
      "text/plain": [
       "array([[  9.,   6.,   1., ...,  25.,  24.,   5.],\n",
       "       [ 11.,   0.,   6., ...,  31.,  25.,  11.],\n",
       "       [  7.,   4.,   3., ...,  11.,  10.,  16.],\n",
       "       ..., \n",
       "       [  6.,   5.,   2., ...,  44.,  35.,  21.],\n",
       "       [ 12.,   2.,   4., ...,  40.,  17.,   9.],\n",
       "       [ 18.,   2.,   1., ...,  38.,  32.,  28.]])"
      ]
     },
     "execution_count": 65,
     "metadata": {},
     "output_type": "execute_result"
    }
   ],
   "source": [
    "X"
   ]
  },
  {
   "cell_type": "markdown",
   "metadata": {},
   "source": [
    "## Q5. \n",
    "\n",
    "Visualize the data using PCA (two dimensions). Color the points by the day of the week"
   ]
  },
  {
   "cell_type": "code",
   "execution_count": 66,
   "metadata": {
    "collapsed": false
   },
   "outputs": [],
   "source": [
    "Xn=X\n",
    "for i in range(0,990):\n",
    "  Xn[i]=X[i]/sum(X[i])"
   ]
  },
  {
   "cell_type": "code",
   "execution_count": 67,
   "metadata": {
    "collapsed": false
   },
   "outputs": [
    {
     "data": {
      "text/plain": [
       "(990, 2)"
      ]
     },
     "execution_count": 67,
     "metadata": {},
     "output_type": "execute_result"
    }
   ],
   "source": [
    "from sklearn.decomposition import PCA\n",
    "Xpca = PCA(2).fit_transform(Xn)\n",
    "Xpca.shape"
   ]
  },
  {
   "cell_type": "code",
   "execution_count": 68,
   "metadata": {
    "collapsed": true
   },
   "outputs": [],
   "source": [
    "dayofweek = pd.to_datetime(pivoted.index).dayofweek"
   ]
  },
  {
   "cell_type": "code",
   "execution_count": 69,
   "metadata": {
    "collapsed": false
   },
   "outputs": [
    {
     "data": {
      "image/png": "[encoded data removed]",
      "text/plain": [
       "<matplotlib.figure.Figure at 0x10c761a90>"
      ]
     },
     "metadata": {},
     "output_type": "display_data"
    }
   ],
   "source": [
    "plt.scatter(Xpca[:, 0], Xpca[:, 1], c=dayofweek,\n",
    "            cmap=plt.cm.get_cmap('jet', 7))\n",
    "cb = plt.colorbar(ticks=range(7))\n",
    "cb.set_ticklabels(['Mon', 'Tues', 'Wed', 'Thurs', 'Fri', 'Sat', 'Sun'])\n"
   ]
  },
  {
   "cell_type": "code",
   "execution_count": null,
   "metadata": {
    "collapsed": true
   },
   "outputs": [],
   "source": []
  },
  {
   "cell_type": "code",
   "execution_count": null,
   "metadata": {
    "collapsed": true
   },
   "outputs": [],
   "source": []
  },
  {
   "cell_type": "code",
   "execution_count": null,
   "metadata": {
    "collapsed": true
   },
   "outputs": [],
   "source": []
  },
  {
   "cell_type": "code",
   "execution_count": null,
   "metadata": {
    "collapsed": true
   },
   "outputs": [],
   "source": []
  }
 ],
 "metadata": {
  "kernelspec": {
   "display_name": "Python 2",
   "language": "python",
   "name": "python2"
  },
  "language_info": {
   "codemirror_mode": {
    "name": "ipython",
    "version": 2
   },
   "file_extension": ".py",
   "mimetype": "text/x-python",
   "name": "python",
   "nbconvert_exporter": "python",
   "pygments_lexer": "ipython2",
   "version": "2.7.10"
  }
 },
 "nbformat": 4,
 "nbformat_minor": 0
}
